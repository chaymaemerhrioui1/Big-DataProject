{
 "cells": [
  {
   "cell_type": "code",
   "execution_count": 1,
   "metadata": {
    "id": "O6v19TUJFiVq"
   },
   "outputs": [],
   "source": [
    "from pyspark.sql import SparkSession\n",
    "from pyspark.sql.functions import col, udf\n",
    "from pyspark.sql.types import ArrayType, StringType\n",
    "from pyspark.ml.feature import StopWordsRemover, Tokenizer, CountVectorizer, IDF\n",
    "from pyspark.ml.clustering import KMeans\n",
    "import nltk\n",
    "from pyspark.sql import functions as F\n",
    "from nltk.stem import WordNetLemmatizer\n",
    "from pyspark.sql.functions import col, regexp_replace\n",
    "from pyspark.sql.functions import to_date\n",
    "from pyspark.sql.functions import when"
   ]
  },
  {
   "cell_type": "code",
   "execution_count": 2,
   "metadata": {
    "colab": {
     "base_uri": "https://localhost:8080/"
    },
    "id": "gg0EBUTwFiVy",
    "outputId": "ea9511e9-5b9b-4bbd-ece0-08e76f825df5"
   },
   "outputs": [
    {
     "name": "stdout",
     "output_type": "stream",
     "text": [
      "root\n",
      " |-- id: string (nullable = true)\n",
      " |-- title: string (nullable = true)\n",
      " |-- assignee: string (nullable = true)\n",
      " |-- author : string (nullable = true)\n",
      " |-- priority date: string (nullable = true)\n",
      " |-- filing/creation date: string (nullable = true)\n",
      " |-- publication date: string (nullable = true)\n",
      " |-- grant date: string (nullable = true)\n",
      " |-- result_link: string (nullable = true)\n",
      " |-- figure_link: string (nullable = true)\n",
      "\n",
      "+------------------+--------------------+-------------------------------------+-----------------------------------+-------------+--------------------+----------------+----------+--------------------+--------------------+\n",
      "|                id|               title|                             assignee|                            author |priority date|filing/creation date|publication date|grant date|         result_link|         figure_link|\n",
      "+------------------+--------------------+-------------------------------------+-----------------------------------+-------------+--------------------+----------------+----------+--------------------+--------------------+\n",
      "|    US-10440323-B2|Facilitating wide...|                          Wellen Sham|                        Wellen Sham|   2015-12-31|          2018-03-20|      2019-10-08|2019-10-08|https://patents.g...|https://patentima...|\n",
      "|  US-2023341849-A1|Deployment mechan...|                       Skyfront Corp.|                       Troy Mestler|   2020-04-15|          2021-09-30|      2023-10-26|1900-01-01|https://patents.g...|https://patentima...|\n",
      "|  US-2016286128-A1|Amphibious vtol s...|                        Dylan TX ZHOU|                      Dylan TX ZHOU|   2002-10-01|          2016-06-03|      2016-09-29|1900-01-01|https://patents.g...|https://patentima...|\n",
      "|   KR-102254491-B1|Automatic fly dro...|                             (주)가시|    강우석, 정재훈, 박원규, 이수...|   2019-11-22|          2020-05-09|      2021-05-21|2021-05-21|https://patents.g...|https://patentima...|\n",
      "|  WO-2020209935-A3|Software defined ...|                 Northeastern Univ...|               Tommaso MELODIA, ...|   2019-04-12|          2020-02-12|      2020-11-12|1900-01-01|https://patents.g...|                NULL|\n",
      "|    US-10836508-B2|       Camera drone |                 Jeffrey Paul Over...|               Jeffrey Paul Over...|   2018-02-16|          2018-02-16|      2020-11-17|2020-11-17|https://patents.g...|https://patentima...|\n",
      "|    US-11084579-B2|Convertible bipla...|                 Textron Innovatio...|               Steven Ray Ivans,...|   2016-07-01|          2020-01-15|      2021-08-10|2021-08-10|https://patents.g...|https://patentima...|\n",
      "|     US-8214088-B2|Device for piloti...|                               Parrot|                    Martin Lefebure|   2008-11-27|          2009-11-19|      2012-07-03|2012-07-03|https://patents.g...|https://patentima...|\n",
      "|    CN-109074101-B|Imaging using mul...|                     高通股份有限公司|       L·J·米什拉, J·G·科尔莱拖梅娜|   2016-05-02|          2017-02-17|      2022-04-26|2022-04-26|https://patents.g...|https://patentima...|\n",
      "|     JP-6822790-B2|Automatic anti-fr...|                 日本ユニシス株式会社|   万智子 佐保田, 万智子 佐保田,...|   2016-06-28|          2016-06-28|      2021-01-27|2021-01-27|https://patents.g...|https://patentima...|\n",
      "|     JP-5134469-B2|Drone system and ...|                   三菱重工業株式会社|                            智 鈴木|   2008-08-21|          2008-08-21|      2013-01-30|2013-01-30|https://patents.g...|https://patentima...|\n",
      "|   KR-102267615-B1|Mission Equipment...|                   한국항공우주연구원|    박상현, 김준호, 한창환, 최선...|   2019-12-24|          2019-12-24|      2021-06-21|2021-06-21|https://patents.g...|https://patentima...|\n",
      "|   KR-101941643-B1|System and method...|                동국대학교 산학협력단|             조경은, 김준오, 치옥용|   2016-10-06|          2016-10-06|      2019-01-23|2019-01-23|https://patents.g...|https://patentima...|\n",
      "|  WO-2017020856-A1|Photographing dev...|       普宙飞行器科技（深圳）有限公司|         黄立, 刘华斌, 王效杰, 顾兴|   2015-08-05|          2016-08-05|      2017-02-09|1900-01-01|https://patents.g...|https://patentima...|\n",
      "|  WO-2019103209-A1|Ocean monitoring ...|                   수상에스티주식회사|                             이성종|   2017-11-22|          2017-11-27|      2019-05-31|1900-01-01|https://patents.g...|https://patentima...|\n",
      "|  US-2021132626-A1|Robot and drone g...|                     Carla R. Gillett|                   Carla R. Gillett|   2018-05-31|          2021-01-11|      2021-05-06|1900-01-01|https://patents.g...|https://patentima...|\n",
      "|    US-11305889-B2|System, method an...|                        Brian Janssen|                      Brian Janssen|   2017-08-03|          2020-04-27|      2022-04-19|2022-04-19|https://patents.g...|https://patentima...|\n",
      "|  US-2021081553-A1|Management of dro...|                   Lens Ventures, Llc|               Tara Lemmey, Stan...|   2014-02-21|          2020-11-13|      2021-03-18|1900-01-01|https://patents.g...|https://patentima...|\n",
      "|    US-11524596-B2|Monitoring system...|                 Coretronic Intell...|               Hsu-Chih Cheng, Y...|   2018-07-02|          2019-05-02|      2022-12-13|2022-12-13|https://patents.g...|https://patentima...|\n",
      "|    US-11009866-B2|   Drone controller |                 This Is Engineeri...|                       YooJung Hong|   2015-09-04|          2019-01-07|      2021-05-18|2021-05-18|https://patents.g...|https://patentima...|\n",
      "|    US-11042168-B2|Drone sourced con...|                    Intel Corporation|               Ned M. Smith, Raj...|   2015-09-24|          2019-03-08|      2021-06-22|2021-06-22|https://patents.g...|https://patentima...|\n",
      "|    US-10759532-B2|Drone capture aer...|                         Hanhui Zhang|                       Hanhui Zhang|   2017-10-18|          2017-12-21|      2020-09-01|2020-09-01|https://patents.g...|https://patentima...|\n",
      "|    US-10497270-B2|Systems and metho...|                 Qualcomm Incorpor...|               Michael Franco Ta...|   2015-01-29|          2017-09-01|      2019-12-03|2019-12-03|https://patents.g...|https://patentima...|\n",
      "|  US-2022397917-A1|Systems and metho...|                      Netdrones, Inc.|               Matthew Laurence ...|   2021-06-11|          2022-06-10|      2022-12-15|1900-01-01|https://patents.g...|https://patentima...|\n",
      "|     EP-3500086-B1|System and method...|                 Tevel Aerobotics ...|                         Yaniv Maor|   2016-08-18|          2017-08-17|      2023-07-26|2023-07-26|https://patents.g...|https://patentima...|\n",
      "|    US-10112728-B2|Drone charging st...|                 Michael Steward E...|               Michael Steward E...|   2016-09-09|          2018-04-10|      2018-10-30|2018-10-30|https://patents.g...|https://patentima...|\n",
      "|    US-11212964-B2|Method of control...|                 Amrita Vishwa Vid...|                     Rao R. Bhavani|   2015-10-05|          2019-09-06|      2022-01-04|2022-01-04|https://patents.g...|https://patentima...|\n",
      "|    US-10915118-B2|System and method...|                 International Bus...|               Gregory F. Boland...|   2015-12-08|          2019-12-23|      2021-02-09|2021-02-09|https://patents.g...|https://patentima...|\n",
      "|  US-2020213578-A1|Drone based captu...|                        Fyusion, Inc.|               Stefan Johannes J...|   2015-07-15|          2020-03-09|      2020-07-02|1900-01-01|https://patents.g...|https://patentima...|\n",
      "|    US-11556887-B2|Systems, devices,...|                 Drone Delivery Sy...|               Brandon Thomas Pa...|   2015-12-07|          2018-08-03|      2023-01-17|2023-01-17|https://patents.g...|https://patentima...|\n",
      "|  US-2021399792-A1|System For Transm...|                                Uavia|               Clément CHRISTOMANOS|   2015-03-02|          2021-09-03|      2021-12-23|1900-01-01|https://patents.g...|https://patentima...|\n",
      "|    US-11698260-B2|Emergency drone g...|                 Alarm.Com Incorpo...|                      Babak Rezvani|   2017-01-10|          2021-07-07|      2023-07-11|2023-07-11|https://patents.g...|https://patentima...|\n",
      "|    US-11724784-B2|Submersible drone...|                 Gooch's Beach Dro...|               Daniel Justin Fio...|   2017-08-29|          2021-06-28|      2023-08-15|2023-08-15|https://patents.g...|https://patentima...|\n",
      "|    US-11190032-B2|Automated drone c...|                 Telefonaktiebolag...|               Reza Farrahi Mogh...|   2016-10-28|          2017-10-27|      2021-11-30|2021-11-30|https://patents.g...|https://patentima...|\n",
      "|    US-11183072-B2|      Drone carrier |                      Nec Corporation|               Jeanette L. Blomb...|   2016-03-08|          2018-04-10|      2021-11-23|2021-11-23|https://patents.g...|https://patentima...|\n",
      "|    US-10884433-B2|Aerial drone util...|                      Nec Corporation|               Quoc-Huy Tran, Ma...|   2017-08-28|          2018-08-10|      2021-01-05|2021-01-05|https://patents.g...|https://patentima...|\n",
      "|    US-11790741-B2|Drone based secur...|                      Albert Williams|                    Albert Williams|   2017-01-31|          2020-03-30|      2023-10-17|2023-10-17|https://patents.g...|https://patentima...|\n",
      "|    US-10450091-B2|Package acceptanc...|                    DroneTerminus LLC|               Joseph Barry MCMI...|   2017-04-07|          2018-04-05|      2019-10-22|2019-10-22|https://patents.g...|https://patentima...|\n",
      "|    US-11440672-B2|Hybrid VTOL fixed...|                 Shanghai Autoflig...|                            Yu Tian|   2017-07-06|          2018-07-30|      2022-09-13|2022-09-13|https://patents.g...|https://patentima...|\n",
      "|    US-10351261-B1|Autonomous drone ...|                       Carolyn Bryant|                     Carolyn Bryant|   2018-03-05|          2018-08-20|      2019-07-16|2019-07-16|https://patents.g...|https://patentima...|\n",
      "|   KR-101894409-B1|Drone control sys...|                주식회사 무지개연구소|                     김용덕, 류민지|   2017-11-29|          2017-11-29|      2018-09-04|2018-09-04|https://patents.g...|https://patentima...|\n",
      "|    US-10216181-B2|Implementation of...|                 International Bus...|               Jeremy R. Fox, An...|   2016-08-04|          2017-12-20|      2019-02-26|2019-02-26|https://patents.g...|https://patentima...|\n",
      "|    US-10831197-B2|Personality shari...|                 International Bus...|               Thomas D. Erickso...|   2017-01-27|          2019-06-17|      2020-11-10|2020-11-10|https://patents.g...|https://patentima...|\n",
      "|    US-10794159-B2|Bottom-fire perfo...|                 DynaEnergetics Eu...|               Christian Eitschb...|   2018-05-31|          2019-06-25|      2020-10-06|2020-10-06|https://patents.g...|https://patentima...|\n",
      "|    US-11914370-B2|System and method...|                 Hangzhou Zero Zer...|               Tong Zhang, Mengq...|   2017-06-05|          2021-02-18|      2024-02-27|2024-02-27|https://patents.g...|https://patentima...|\n",
      "|   KR-102121974-B1|Disaster damage i...|                             대한민국|             김성삼, 박제성, 신동윤|   2019-12-05|          2019-12-05|      2020-06-12|2020-06-12|https://patents.g...|https://patentima...|\n",
      "|    US-11117661-B2|Rotary wing drone...|                        Parrot Drones|                   Christine Caubel|   2017-09-07|          2018-09-07|      2021-09-14|2021-09-14|https://patents.g...|https://patentima...|\n",
      "|    US-10748107-B2|Systems, methods,...|                            Ingar LLC|                    Nicolaas STOMAN|   2015-06-01|          2017-10-31|      2020-08-18|2020-08-18|https://patents.g...|https://patentima...|\n",
      "|     US-9999213-B2|Multi function ph...|                     Simon Siu-Chi Yu|                   Simon Siu-Chi Yu|   2016-05-28|          2017-10-04|      2018-06-19|2018-06-19|https://patents.g...|https://patentima...|\n",
      "|    US-10922983-B2|Programming langu...|                 International Bus...|               Jeanette L. Blomb...|   2016-03-08|          2018-06-19|      2021-02-16|2021-02-16|https://patents.g...|https://patentima...|\n",
      "|  AU-2019204882-C1|System, Method an...|                 Zambelli Imaginee...|                      Kate ZAMBELLI|   2017-10-12|          2019-07-08|      2021-10-28|2021-10-28|https://patents.g...|                NULL|\n",
      "|    US-11914400-B2|Dynamic drone nav...|                 Alarm.Com Incorpo...|               Babak Rezvani, Ah...|   2017-01-17|          2020-10-19|      2024-02-27|2024-02-27|https://patents.g...|https://patentima...|\n",
      "|   KR-101990886-B1|Big data-based au...|                주식회사 무지개연구소|                     김용덕, 류민지|   2018-11-22|          2018-11-22|      2019-06-19|2019-06-19|https://patents.g...|https://patentima...|\n",
      "|    US-10479528-B1|Network of distri...|                           Ping Liang|               Ping Liang, Biyon...|   2018-11-06|          2018-11-06|      2019-11-19|2019-11-19|https://patents.g...|https://patentima...|\n",
      "|      CA-3034704-C|Home-delivered ar...|                 Jeong-Hoon Shin, ...|                    Jeong-Hoon Shin|   2016-07-27|          2017-07-27|      2021-05-04|2021-05-04|https://patents.g...|                NULL|\n",
      "|    US-10378906-B2|Systems and metho...|                  Walmart Apollo, Llc|               John Jeremiah O'B...|   2016-10-04|          2017-10-03|      2019-08-13|2019-08-13|https://patents.g...|https://patentima...|\n",
      "|    US-10354537-B2|Method and appara...|                     Here Global B.V.|               Jerome Beaurepair...|   2017-05-02|          2018-08-27|      2019-07-16|2019-07-16|https://patents.g...|https://patentima...|\n",
      "|    US-10861305-B2|Drone enabled str...|                         Vivint, Inc.|               Clint Huson Gordo...|   2016-05-20|          2017-07-07|      2020-12-08|2020-12-08|https://patents.g...|https://patentima...|\n",
      "|   KR-102001728-B1|Method and system...|                공간정보기술 주식회사|    이종훈, 박성근, 신재호, 변정...|   2017-11-07|          2017-11-07|      2019-07-18|2019-07-18|https://patents.g...|https://patentima...|\n",
      "|    US-10163355-B2|Dynamic managemen...|                 International Bus...|               Thomas David Eric...|   2015-11-03|          2017-01-30|      2018-12-25|2018-12-25|https://patents.g...|https://patentima...|\n",
      "|    US-10207805-B2|Drone transport s...|                 Michael Steward E...|               Michael Steward E...|   2017-01-06|          2017-03-10|      2019-02-19|2019-02-19|https://patents.g...|https://patentima...|\n",
      "|    US-10332406-B2|Dynamic geo-fence...|                 International Bus...|               Yuk L. Chan, Kyle...|   2015-11-25|          2017-11-15|      2019-06-25|2019-06-25|https://patents.g...|https://patentima...|\n",
      "|    US-10351044-B2|Drone-enhanced ve...|                 International Bus...|               Michael S. Gordon...|   2016-07-29|          2018-05-31|      2019-07-16|2019-07-16|https://patents.g...|https://patentima...|\n",
      "|    US-10326939-B2|Drone provided wi...|                               Parrot|                       Pierre Eline|   2015-01-26|          2017-12-14|      2019-06-18|2019-06-18|https://patents.g...|https://patentima...|\n",
      "|      TW-I687111-B|Wwan radio link q...|                         美商高通公司|                  愛德華哈利森 提格|   2016-07-15|          2017-06-01|      2020-03-01|2020-03-01|https://patents.g...|https://patentima...|\n",
      "|    US-10535195-B2|Virtual reality s...|                   SonicSensory, Inc.|               Brock Maxwell SEILER|   2016-01-06|          2017-01-06|      2020-01-14|2020-01-14|https://patents.g...|https://patentima...|\n",
      "|    US-10169627-B2|Optical marker fo...|                 International Bus...|               Gregory S. Jones,...|   2016-01-22|          2017-11-22|      2019-01-01|2019-01-01|https://patents.g...|https://patentima...|\n",
      "|   KR-101933216-B1|River topography ...|                 충남대학교산학협력단|     이근상, 정관수, 유완식, 최미경|   2017-06-01|          2017-06-01|      2018-12-27|2018-12-27|https://patents.g...|https://patentima...|\n",
      "|     EP-3522573-B1|Drone measurement...|                 Sony Group Corpor...|               Atsushi Yoshizawa...|   2016-09-27|          2017-08-15|      2021-07-28|2021-07-28|https://patents.g...|https://patentima...|\n",
      "|    US-11022408-B2|Drone interceptor...|                    Elta Systems Ltd.|                           Gil KLAR|   2018-03-13|          2019-03-13|      2021-06-01|2021-06-01|https://patents.g...|https://patentima...|\n",
      "|     JP-6844097-B2|Drone flying object |インダストリーネットワーク株式会社...|   大橋　俊夫, 大橋　　俊夫, 敬 ...|   2016-04-19|          2017-04-18|      2021-03-17|2021-03-17|https://patents.g...|                NULL|\n",
      "|    US-11235874-B2|Automated drone-b...|                 Greensight Agrono...|               Robert M. Jones, ...|   2018-03-30|          2019-03-28|      2022-02-01|2022-02-01|https://patents.g...|https://patentima...|\n",
      "|    US-11445846-B2|Drone delivery pl...|                 United Parcel Ser...|               Julio Gil, Bala G...|   2018-12-06|          2021-03-29|      2022-09-20|2022-09-20|https://patents.g...|https://patentima...|\n",
      "|     US-9937808-B2|Drone charging st...|                 Michael Steward E...|               Michael Steward E...|   2016-09-09|          2016-09-09|      2018-04-10|2018-04-10|https://patents.g...|https://patentima...|\n",
      "|    US-10104289-B2|Modular camera dr...|                   SWL Robotics, Inc.|               Enrique Jesus Enr...|   2016-08-31|          2017-03-13|      2018-10-16|2018-10-16|https://patents.g...|https://patentima...|\n",
      "|    US-10618652-B2|Surface washing d...|                     Drone Wash, Inc.|               Scott J. Tamkin, SR.|   2016-04-20|          2017-04-20|      2020-04-14|2020-04-14|https://patents.g...|https://patentima...|\n",
      "|    US-10336202-B2|Drone assistance ...|                  Peter J. Panopoulos|               Peter J. Panopoul...|   2013-08-05|          2017-02-27|      2019-07-02|2019-07-02|https://patents.g...|https://patentima...|\n",
      "|    US-10690772-B2|LIDAR site model ...|                 Raytheon Bbn Tech...|                Brian R. Van Voorst|   2016-03-11|          2017-02-27|      2020-06-23|2020-06-23|https://patents.g...|https://patentima...|\n",
      "|   KR-101933402-B1|A wired drone sys...|                      주식회사 휴인스|                             송태훈|   2017-12-29|          2017-12-29|      2018-12-28|2018-12-28|https://patents.g...|https://patentima...|\n",
      "|    US-10336441-B2|              Drone |                  Lg Electronics Inc.|               JungSik Kim, Hyou...|   2016-06-08|          2017-06-07|      2019-07-02|2019-07-02|https://patents.g...|https://patentima...|\n",
      "|    US-10703476-B2|Method and appara...|                     Here Global B.V.|               Ryan ALLARD, Fran...|   2017-08-17|          2017-08-17|      2020-07-07|2020-07-07|https://patents.g...|https://patentima...|\n",
      "|    US-10228694-B2|Drone and robot c...|                 Animusoft Corpora...|                   Daniel Rodriguez|   2016-03-04|          2017-03-03|      2019-03-12|2019-03-12|https://patents.g...|https://patentima...|\n",
      "|    US-10706381-B2|Vehicle and drone...|                       Omnitracs, Llc|               Stephen P. SIMON,...|   2017-07-05|          2017-07-05|      2020-07-07|2020-07-07|https://patents.g...|https://patentima...|\n",
      "|    US-10642279-B2|Automotive drone ...|                 Ford Global Techn...|               John A. Lockwood,...|   2014-07-16|          2017-01-30|      2020-05-05|2020-05-05|https://patents.g...|https://patentima...|\n",
      "|    US-10301017-B2|Flying and walkin...|                 Patrick del Casti...|               Patrick del Casti...|   2016-08-26|          2017-08-28|      2019-05-28|2019-05-28|https://patents.g...|https://patentima...|\n",
      "|    US-11355020-B2|Drone air traffic...|                    Metal Raptor, Llc|                         Lee Priest|   2016-06-10|          2018-08-10|      2022-06-07|2022-06-07|https://patents.g...|https://patentima...|\n",
      "|    US-11454988-B2|Systems and metho...|                 Percepto Robotics...|               Sagi BLONDER, Ari...|   2016-07-21|          2020-01-13|      2022-09-27|2022-09-27|https://patents.g...|https://patentima...|\n",
      "|    US-10223914-B2|System for suppor...|                    Mando Corporation|                       Man Bok PARK|   2016-04-18|          2017-04-10|      2019-03-05|2019-03-05|https://patents.g...|https://patentima...|\n",
      "|    US-10034209-B1|Traffic offloadin...|                 Qualcomm Incorpor...|               Amar Kumar Nandan...|   2017-03-10|          2017-03-10|      2018-07-24|2018-07-24|https://patents.g...|https://patentima...|\n",
      "|    CN-106774373-B|A kind of quadrot...|                       哈尔滨工业大学|    王辉, 张立宪, 沈俊楠, 朱延正...|   2017-01-12|          2017-01-12|      2019-11-05|2019-11-05|https://patents.g...|                NULL|\n",
      "|  AU-2021200446-B2|          Drone box |                 H3 Dynamics Holdi...|                    Taras WANKEWYCZ|   2015-08-17|          2021-01-22|      2023-08-31|2023-08-31|https://patents.g...|                NULL|\n",
      "|    US-11129067-B2|Method and appara...|                  Lg Electronics Inc.|               Sanggook KIM, Ki-...|   2016-07-06|          2017-07-06|      2021-09-21|2021-09-21|https://patents.g...|https://patentima...|\n",
      "|     EP-3402380-B1|Aerial drone clea...|                 The Procter & Gam...|               Michelle Lynn Bor...|   2016-01-11|          2017-01-03|      2021-09-29|2021-09-29|https://patents.g...|https://patentima...|\n",
      "|    US-10165232-B2|Method for monito...|                    Robert Bosch Gmbh|               Gerrit Quast, Rol...|   2016-02-11|          2017-02-03|      2018-12-25|2018-12-25|https://patents.g...|https://patentima...|\n",
      "|    US-10744649-B2|Drone payload sys...|                             GearWurx|                       Collin Lewis|   2017-08-18|          2018-08-20|      2020-08-18|2020-08-18|https://patents.g...|https://patentima...|\n",
      "|    US-10032464-B2|Drone detection a...|                     Droneshield, Llc|               John Franklin, Br...|   2015-11-24|          2016-11-23|      2018-07-24|2018-07-24|https://patents.g...|https://patentima...|\n",
      "|DE-102016224479-B4|Transport drone f...|                    Disco Corporation|                      Kazuma Sekiya|   2015-12-11|          2016-12-08|      2021-08-05|2021-08-05|https://patents.g...|https://patentima...|\n",
      "|    US-11912442-B2|Fuel cell power p...|                 Doosan Mobility I...|               Myeong Hun SEUNG,...|   2018-08-31|          2019-08-28|      2024-02-27|2024-02-27|https://patents.g...|https://patentima...|\n",
      "|    US-11352133-B2|Systems, cableles...|                    Intel Corporation|               Michael Jassowski...|   2017-12-28|          2017-12-28|      2022-06-07|2022-06-07|https://patents.g...|https://patentima...|\n",
      "|  US-2022055770-A1|Hot and Cold Sect...|                    Daniel S. O'Toole|                  Daniel S. O'Toole|   2020-04-20|          2021-04-19|      2022-02-24|1900-01-01|https://patents.g...|https://patentima...|\n",
      "|     EP-3210659-B1|Drone provided wi...|                        Parrot Drones|               M. Thierry SANLAV...|   2016-02-25|          2017-02-15|      2019-04-10|2019-04-10|https://patents.g...|https://patentima...|\n",
      "|   KR-101619836-B1|Hyperspectral Rem...|                       (주)아세아항측|             임상문, 임은성, 최기현|   2016-02-05|          2016-02-05|      2016-05-11|2016-05-11|https://patents.g...|https://patentima...|\n",
      "|    US-10005556-B2|Drone having dron...|                 Mohammad Rastgaar...|               Mohammad Rastgaar...|   2015-11-25|          2016-10-24|      2018-06-26|2018-06-26|https://patents.g...|https://patentima...|\n",
      "|    US-10152059-B2|Systems and metho...|                 Qualcomm Incorpor...|               Debdeep Banerjee,...|   2016-10-10|          2016-10-10|      2018-12-11|2018-12-11|https://patents.g...|https://patentima...|\n",
      "|     US-9908618-B2|Adjustable weight...|                 Qualcomm Incorpor...|               Brad Lee Vaughn, ...|   2015-03-10|          2016-10-05|      2018-03-06|2018-03-06|https://patents.g...|https://patentima...|\n",
      "|    US-10586186-B2|Fog drone fleet o...|                 Cisco Technology,...|               Jay Johnston, Ram...|   2016-05-05|          2016-05-05|      2020-03-10|2020-03-10|https://patents.g...|https://patentima...|\n",
      "|    US-11017680-B2|Drone detection s...|                 Alarm.Com Incorpo...|               Stephen Scott Tru...|   2015-09-30|          2016-09-30|      2021-05-25|2021-05-25|https://patents.g...|https://patentima...|\n",
      "|    US-10526065-B2|Drone having at l...|                   Airbus Helicopters|                   Lionel Thomassey|   2016-04-26|          2017-04-26|      2020-01-07|2020-01-07|https://patents.g...|https://patentima...|\n",
      "|   KR-101866239-B1|Method for Monito...|                   (주)이피에스이앤이|     박변주, 이홍복, 신동환, 김지호|   2017-05-30|          2017-05-30|      2018-06-12|2018-06-12|https://patents.g...|https://patentima...|\n",
      "|   KR-101844414-B1|Drone for sprayin...|           경남도립거창대학산학협력단|    이관희, 윤경섭, 손창섭, 정용...|   2017-11-07|          2017-11-07|      2018-04-02|2018-04-02|https://patents.g...|https://patentima...|\n",
      "|    US-11508056-B2|Drone inspection ...|                 Measure Global, Inc.|                      Preston White|   2019-02-28|          2020-02-28|      2022-11-22|2022-11-22|https://patents.g...|https://patentima...|\n",
      "|    US-10457420-B2|Apparatus for pro...|                     Sharper Shape Oy|                      Tero Heinonen|   2016-11-23|          2016-11-23|      2019-10-29|2019-10-29|https://patents.g...|https://patentima...|\n",
      "|   KR-102244175-B1|Drone flight cont...|                  퀄컴 인코포레이티드|    에릭 비제르, 래훈 김, 카스티...|   2016-01-28|          2016-11-21|      2021-04-23|2021-04-23|https://patents.g...|https://patentima...|\n",
      "|    US-10324462-B2|Drone swarm for i...|                    Intel Corporation|               Michael A Jassows...|   2016-12-30|          2016-12-30|      2019-06-18|2019-06-18|https://patents.g...|https://patentima...|\n",
      "|     US-9863776-B2|Ambulatory route ...|                 International Bus...|               Michael S. Gordon...|   2015-07-14|          2017-03-08|      2018-01-09|2018-01-09|https://patents.g...|https://patentima...|\n",
      "|    US-10472064-B2|VTOL fixed-wing a...|                              Yu Tian|                            Yu Tian|   2018-01-29|          2018-04-10|      2019-11-12|2019-11-12|https://patents.g...|https://patentima...|\n",
      "|    US-10185316-B2|System and method...|                      Edward Kablaoui|                    Edward Kablaoui|   2015-08-10|          2016-08-10|      2019-01-22|2019-01-22|https://patents.g...|https://patentima...|\n",
      "|     US-9868526-B2|Airborne drone de...|                 W. Morrison Consu...|                   William M. Yates|   2014-10-15|          2015-10-13|      2018-01-16|2018-01-16|https://patents.g...|https://patentima...|\n",
      "|  US-2020288895-A1|Drone Drop System...|                 James Duane Benne...|               James Duane Benne...|   2019-03-14|          2019-03-14|      2020-09-17|1900-01-01|https://patents.g...|https://patentima...|\n",
      "|    CN-107289950-B|Plant protection ...|               上海拓攻机器人有限公司|   尹亮亮, 吕萌, 赵佳, 李少斌, 张羽|   2017-07-28|          2017-07-28|      2019-01-04|2019-01-04|https://patents.g...|                NULL|\n",
      "|    US-10474983-B2|Method and appara...|                  Walmart Apollo, Llc|               Donald R. High, J...|   2015-11-06|          2016-11-04|      2019-11-12|2019-11-12|https://patents.g...|https://patentima...|\n",
      "|     US-9852644-B2|Hybrid airship-dr...|                 Bee Robotics Corp...|               Vladimir Salnikov...|   2013-03-24|          2016-06-25|      2017-12-26|2017-12-26|https://patents.g...|https://patentima...|\n",
      "|   KR-101912740-B1|Monitoring and Ex...|  전주대학교 산학협력단, (주)코어센스|                     김동현, 박진하|   2016-04-15|          2016-04-15|      2018-10-30|2018-10-30|https://patents.g...|https://patentima...|\n",
      "|    US-10096005-B2|Drone and drone-b...|                 International Bus...|               Michael S. Gordon...|   2016-09-14|          2016-09-15|      2018-10-09|2018-10-09|https://patents.g...|https://patentima...|\n",
      "|    US-10501180-B2|Multifunction fir...|                     Simon Siu-Chi Yu|                   Simon Siu-Chi Yu|   2017-10-04|          2018-05-23|      2019-12-10|2019-12-10|https://patents.g...|https://patentima...|\n",
      "|    US-10377507-B2|Multifunctional m...|                 Simon TREMBLAY, E...|               Simon TREMBLAY, E...|   2015-07-23|          2016-06-11|      2019-08-13|2019-08-13|https://patents.g...|https://patentima...|\n",
      "|    US-11645904-B2|Drone-augmented e...|                 Alarm.Com Incorpo...|               Stephen Scott Tru...|   2015-09-30|          2021-07-07|      2023-05-09|2023-05-09|https://patents.g...|https://patentima...|\n",
      "|    US-10424130-B2|System and method...|                  Walmart Apollo, Llc|               John Jeremiah O'B...|   2016-10-04|          2017-10-03|      2019-09-24|2019-09-24|https://patents.g...|https://patentima...|\n",
      "|   KR-101809439-B1|Apparatus and met...|              삼성에스디에스 주식회사|    송성학, 최규하, 김재성, 박순...|   2015-07-22|          2015-07-22|      2017-12-15|2017-12-15|https://patents.g...|https://patentima...|\n",
      "|   KR-101891934-B1|Seamless replacem...|                        알까뗄 루슨트|  오스만 아이딘, 일라리아 말란치...|   2014-07-22|          2015-07-21|      2018-08-24|2018-08-24|https://patents.g...|https://patentima...|\n",
      "|   KR-102424180-B1|personal sensory ...|                      인텔 코포레이션|    주세페 라파, 글렌 제이. 앤더...|   2015-06-25|          2016-05-25|      2022-07-25|2022-07-25|https://patents.g...|https://patentima...|\n",
      "|    US-11074447-B1|Land analysis sys...|                 Hana Resources, Inc.|               Andrew John Fox, ...|   2018-07-13|          2019-07-12|      2021-07-27|2021-07-27|https://patents.g...|https://patentima...|\n",
      "|    CN-107479567-B|The unknown quadr...|                             山东大学|   马昕, 李轾, 李贻斌, 宋锐, 荣学文|   2017-09-13|          2017-09-13|      2018-10-30|2018-10-30|https://patents.g...|                NULL|\n",
      "|     US-9605926-B1|Drone-target hunt...|                       DuckDrone, LLC|               Grady Means, Thor...|   2016-01-07|          2016-09-09|      2017-03-28|2017-03-28|https://patents.g...|https://patentima...|\n",
      "|   KR-102394878-B1|Drone station dev...|   전주대학교 산학협력단, 주식회사...|                     김동현, 박진하|   2020-06-02|          2020-06-02|      2022-05-09|2022-05-09|https://patents.g...|https://patentima...|\n",
      "|    US-10370101-B2|Drone, method and...|                 Jolanda Jacoba Ma...|               Jolanda Jacoba Ma...|   2014-06-23|          2015-06-19|      2019-08-06|2019-08-06|https://patents.g...|https://patentima...|\n",
      "|    US-10571932-B2|Navigation system...|                 Top Flight Techno...|               Paul A. DeBitetto...|   2017-07-06|          2019-01-23|      2020-02-25|2020-02-25|https://patents.g...|https://patentima...|\n",
      "|     US-9886033-B2|System for piloti...|                        Parrot Drones|               Henri Seydoux, Ni...|   2015-04-23|          2016-04-19|      2018-02-06|2018-02-06|https://patents.g...|https://patentima...|\n",
      "|   KR-102147192-B1|System for monito...|                       (주)이산기술단|                             김삼용|   2020-04-07|          2020-04-07|      2020-08-25|2020-08-25|https://patents.g...|https://patentima...|\n",
      "|  US-2018342169-A1|Autonomous drone ...|                 International Bus...|               Michael S. Gordon...|   2015-04-15|          2018-07-16|      2018-11-29|1900-01-01|https://patents.g...|https://patentima...|\n",
      "|    US-10179648-B2|Airborne drone la...|                 Howard Martin Chi...|               Howard Martin Chi...|   2015-06-08|          2016-06-08|      2019-01-15|2019-01-15|https://patents.g...|https://patentima...|\n",
      "|     JP-6866203-B2|Drone navigation ...|           株式会社ゼンリンデータコム|     辰彦 清水, 辰彦 清水, 光昭 ...|   2017-03-28|          2017-03-28|      2021-04-28|2021-04-28|https://patents.g...|https://patentima...|\n",
      "|     EP-3308233-B1|Drone controlling...|                    Intel Corporation|               Joshua EKANDEM, G...|   2015-06-11|          2016-05-03|      2020-08-05|2020-08-05|https://patents.g...|https://patentima...|\n",
      "|    US-10866065-B2|Drone-assisted sy...|                   Daniel Baumgartner|                 Daniel Baumgartner|   2019-03-18|          2020-03-18|      2020-12-15|2020-12-15|https://patents.g...|https://patentima...|\n",
      "|    US-11325702-B2|Tethered aerial d...|                 Motorola Solution...|               Artur ZAWADZKI, R...|   2016-08-19|          2016-08-19|      2022-05-10|2022-05-10|https://patents.g...|https://patentima...|\n",
      "|    US-11772597-B2|  Drone with airbag |                 Matsuya R&D Co., ...|                      Hidetaka Goto|   2016-11-04|          2017-10-31|      2023-10-03|2023-10-03|https://patents.g...|https://patentima...|\n",
      "|    US-10410105-B1|Containers for ae...|                            Ingar LLC|                       Karin STOMAN|   2016-11-11|          2017-10-31|      2019-09-10|2019-09-10|https://patents.g...|https://patentima...|\n",
      "|     US-9855658-B2|Drone assisted ad...|                           Rahul Babu|                         Rahul Babu|   2015-03-19|          2016-03-18|      2018-01-02|2018-01-02|https://patents.g...|https://patentima...|\n",
      "|   KR-102089067-B1|Multi-drone syste...|                       광주과학기술원|    전영훈, 안효성, 오국환, 이재...|   2018-07-30|          2018-07-30|      2020-03-16|2020-03-16|https://patents.g...|https://patentima...|\n",
      "|    US-10605037-B2|Drone conveyance ...|                 DynaEnergetics Eu...|               Christian Eitschb...|   2018-05-31|          2019-05-28|      2020-03-31|2020-03-31|https://patents.g...|https://patentima...|\n",
      "|    US-11834174-B2|Control of drone-...|                 Vita Inclinata Ip...|               Derek Sikora, Log...|   2018-02-08|          2023-04-14|      2023-12-05|2023-12-05|https://patents.g...|https://patentima...|\n",
      "|    US-10737782-B2|Drone based deliv...|                    Intel Corporation|               Willem M. Beltman...|   2017-09-29|          2017-09-29|      2020-08-11|2020-08-11|https://patents.g...|https://patentima...|\n",
      "|  US-2020364456-A1|              Drone |                    Bao Tran, Ha Tran|                  Bao Tran, Ha Tran|   2019-05-13|          2019-07-31|      2020-11-19|1900-01-01|https://patents.g...|https://patentima...|\n",
      "|    US-10800524-B2|Scalable drone la...|                        Moshe Benezra|                      Moshe Benezra|   2017-12-23|          2018-12-22|      2020-10-13|2020-10-13|https://patents.g...|https://patentima...|\n",
      "|     US-9854408-B2|Deploying cell on...|                 Cisco Technology,...|               OM Prakash Suthar...|   2015-07-10|          2016-02-18|      2017-12-26|2017-12-26|https://patents.g...|https://patentima...|\n",
      "|    US-11908309-B2|Method for allowi...|                 Alarm.Com Incorpo...|               Gary Franklin Bar...|   2017-05-10|          2022-07-14|      2024-02-20|2024-02-20|https://patents.g...|https://patentima...|\n",
      "|  US-2020178053-A1|Drone-to-drone in...|                 At&T Intellectual...|               Venson Shaw, Sang...|   2017-09-28|          2020-02-03|      2020-06-04|1900-01-01|https://patents.g...|https://patentima...|\n",
      "|    US-10140987-B2|Aerial drone comp...|                 International Bus...|               Thomas D. Erickso...|   2016-09-16|          2016-09-16|      2018-11-27|2018-11-27|https://patents.g...|https://patentima...|\n",
      "|  AU-2022201137-B2|System and method...|                 Alarm.Com Incorpo...|               Aaron Lee Roberts...|   2017-08-30|          2022-02-21|      2023-05-04|2023-05-04|https://patents.g...|                NULL|\n",
      "|    US-11040774-B2|Drone authenticat...|                 At&T Intellectual...|               Venson Shaw, Sang...|   2017-09-14|          2019-09-30|      2021-06-22|2021-06-22|https://patents.g...|https://patentima...|\n",
      "|    US-10866597-B1|Drone detection a...|                 Securus Technolog...|               Dennis J. Reinhol...|   2018-05-07|          2018-05-07|      2020-12-15|2020-12-15|https://patents.g...|https://patentima...|\n",
      "|     EP-3468181-A1|Drone clouds for ...|                    INTEL Corporation|                      Greg D. KAINE|   2017-10-09|          2018-09-05|      2019-04-10|1900-01-01|https://patents.g...|https://patentima...|\n",
      "|     US-9552736-B2|Systems and metho...|                 Qualcomm Incorpor...|               Michael Franco Ta...|   2015-01-29|          2015-01-29|      2017-01-24|2017-01-24|https://patents.g...|https://patentima...|\n",
      "|   KR-101636478-B1|Method for contro...|                고려대학교 산학협력단|    김황남, 유승호, 김강호, 정용...|   2014-05-12|          2015-02-26|      2016-07-06|2016-07-06|https://patents.g...|https://patentima...|\n",
      "|    US-10168700-B2|Control of an aer...|                 International Bus...|               Michael S. Gordon...|   2016-02-11|          2016-02-11|      2019-01-01|2019-01-01|https://patents.g...|https://patentima...|\n",
      "|    US-10035589-B2|     Foldable drone |                 Beijing Zero Zero...|               Tong Zhang, Mengq...|   2015-01-04|          2015-12-29|      2018-07-31|2018-07-31|https://patents.g...|https://patentima...|\n",
      "|   KR-101705838-B1|Automatic battery...|                 세종대학교산학협력단|                     박성수, 공형직|   2015-11-30|          2015-11-30|      2017-02-10|2017-02-10|https://patents.g...|https://patentima...|\n",
      "|   KR-101599423-B1|Charging system f...|                               배종외|                             배종외|   2015-10-16|          2015-10-16|      2016-03-15|2016-03-15|https://patents.g...|https://patentima...|\n",
      "|    US-10597156-B2|     Cleaning drone |                 Pierre Emmanuel VIEL|               Pierre Emmanuel VIEL|   2015-04-15|          2015-12-28|      2020-03-24|2020-03-24|https://patents.g...|https://patentima...|\n",
      "|   KR-101837979-B1|Method for contro...|              삼성에스디에스 주식회사|             이주영, 백창현, 신영근|   2015-07-31|          2015-07-31|      2018-03-13|2018-03-13|https://patents.g...|https://patentima...|\n",
      "|    US-10040551-B2|Drone delivery of...|                 International Bus...|               Thomas David Eric...|   2015-12-22|          2015-12-22|      2018-08-07|2018-08-07|https://patents.g...|https://patentima...|\n",
      "|   KR-102300163-B1|System for monito...|                  주식회사 엠피코씨엠|                     김계훈, 한지수|   2021-03-03|          2021-03-03|      2021-09-10|2021-09-10|https://patents.g...|https://patentima...|\n",
      "|    US-10302397-B1|Drone-target hunt...|                       DuckDrone, LLC|               Grady Means, Thor...|   2016-01-07|          2017-10-19|      2019-05-28|2019-05-28|https://patents.g...|https://patentima...|\n",
      "|   KR-101712280-B1|Smart Drone House...|                한양대학교 산학협력단|    노승환, 송성종, 김준, 한가람...|   2015-08-07|          2015-08-07|      2017-03-03|2017-03-03|https://patents.g...|https://patentima...|\n",
      "|     US-9704508-B2|Drone detection a...|                     Droneshield, Llc|               Brian Hearing, Jo...|   2014-04-22|          2015-11-24|      2017-07-11|2017-07-11|https://patents.g...|https://patentima...|\n",
      "|    US-10457421-B2|Drone docking sta...|                     Daniel S O'Toole|                   Daniel S O'Toole|   2014-12-09|          2015-11-21|      2019-10-29|2019-10-29|https://patents.g...|https://patentima...|\n",
      "|    US-10618653-B2|Charging system b...|                         Chan Hee HAN|               Chan Hee HAN, Gyu...|   2015-06-10|          2016-03-15|      2020-04-14|2020-04-14|https://patents.g...|https://patentima...|\n",
      "|     US-9709983-B2|Long-range drone ...|                        Parrot Drones|               Henri Seydoux, Ar...|   2014-11-12|          2015-11-06|      2017-07-18|2017-07-18|https://patents.g...|https://patentima...|\n",
      "|    US-10878708-B2|Drone terrain sur...|                     Farrokh Mohamadi|                   Farrokh Mohamadi|   2017-03-03|          2018-03-05|      2020-12-29|2020-12-29|https://patents.g...|https://patentima...|\n",
      "|    US-11667372-B2|Drone systems and...|                       Duplicent, Llc|                    Curren Krasnoff|   2018-01-22|          2020-07-17|      2023-06-06|2023-06-06|https://patents.g...|https://patentima...|\n",
      "|    US-10023311-B2|Automatic paintin...|                 International Bus...|               Jui-Hsin Lai, Yu ...|   2016-03-10|          2016-03-10|      2018-07-17|2018-07-17|https://patents.g...|https://patentima...|\n",
      "|    US-10713777-B2|Organism growth p...|                 Hana Resources, Inc.|               Andrew John Fox, ...|   2017-06-05|          2018-04-26|      2020-07-14|2020-07-14|https://patents.g...|https://patentima...|\n",
      "|    US-10084960-B2|Panoramic view im...|                 Iec Infrared Syst...|               Richard Pettegrew...|   2014-10-10|          2015-09-25|      2018-09-25|2018-09-25|https://patents.g...|https://patentima...|\n",
      "|    US-10836270-B2|Drone implemented...|                   Brinc Drones, Inc.|                      Blake RESNICK|   2017-06-09|          2018-06-08|      2020-11-17|2020-11-17|https://patents.g...|https://patentima...|\n",
      "|    US-11008081-B2|Underwater drone ...|                 Powervision Tech ...|               Weifeng Zheng, Zh...|   2016-02-18|          2020-04-08|      2021-05-18|2021-05-18|https://patents.g...|https://patentima...|\n",
      "|    US-10150562-B2|Hydraulically pro...|                          Kim F. Hein|                        Kim F. Hein|   2015-10-27|          2016-01-16|      2018-12-11|2018-12-11|https://patents.g...|https://patentima...|\n",
      "|   KR-101905052-B1|Drone for maintai...|                동국대학교 산학협력단|             조경은, 김준오, 치옥용|   2016-11-14|          2016-11-14|      2018-10-05|2018-10-05|https://patents.g...|https://patentima...|\n",
      "|     US-9969491-B2|Drone launch syst...|                   The Boeing Company|                James David Strayer|   2015-09-02|          2015-09-02|      2018-05-15|2018-05-15|https://patents.g...|https://patentima...|\n",
      "|    US-10496107-B2|Autonomous securi...|                 Valeo North Ameri...|               Mark Anthony Patt...|   2017-01-17|          2017-01-17|      2019-12-03|2019-12-03|https://patents.g...|https://patentima...|\n",
      "|    US-10364029-B2|Drone for agricul...|                         Yongbiao Liu|                       Yongbiao Liu|   2017-06-08|          2017-06-08|      2019-07-30|2019-07-30|https://patents.g...|https://patentima...|\n",
      "|    US-10642264-B2|Security drone sy...|                 Superior Communic...|               Samuel Sentosa, G...|   2017-07-19|          2017-07-19|      2020-05-05|2020-05-05|https://patents.g...|https://patentima...|\n",
      "|     US-9671787-B2|Method of dynamic...|                        Parrot Drones|               Gilles Foinet, Ma...|   2014-08-26|          2015-08-25|      2017-06-06|2017-06-06|https://patents.g...|https://patentima...|\n",
      "|     US-9494937-B2|Method and system...|                 Verizon Telematic...|               Robert S. Siegel,...|   2014-06-20|          2014-06-20|      2016-11-15|2016-11-15|https://patents.g...|https://patentima...|\n",
      "|  AU-2016250346-B2|Drone with wind g...|                 Hwan-Tae Kim, Jin...|               Hwan-Tae Kim, Jin...|   2015-10-26|          2016-10-25|      2017-12-14|2017-12-14|https://patents.g...|                NULL|\n",
      "|    US-10498955-B2|Commercial drone ...|                 Disney Enterprise...|                     Gary J. Nadler|   2015-08-03|          2015-08-03|      2019-12-03|2019-12-03|https://patents.g...|https://patentima...|\n",
      "|    US-10093432-B2|Drone receiving s...|                 James McKinnon, F...|               James McKinnon, F...|   2014-10-09|          2015-10-07|      2018-10-09|2018-10-09|https://patents.g...|https://patentima...|\n",
      "|     JP-6622291-B2|Methods, systems,...|クゥアルコム・インコーポレイテッド...|ガネシュ、シュリラム, メネンデズ...|   2014-09-08|          2015-07-30|      2019-12-18|2019-12-18|https://patents.g...|https://patentima...|\n",
      "|   KR-101805440-B1|A Scheme of Fixed...|                   한국항공우주연구원|                             김근택|   2016-08-08|          2016-08-08|      2017-12-07|2017-12-07|https://patents.g...|https://patentima...|\n",
      "|    US-10737794-B2|Safety device and...|                 Korea Aerospace R...|                        Seon Ho Lee|   2015-08-27|          2016-08-05|      2020-08-11|2020-08-11|https://patents.g...|https://patentima...|\n",
      "|    US-10498566-B2|Small cell base s...|                 Commscope Technol...|                   Bryan K. Kennedy|   2017-03-29|          2018-03-27|      2019-12-03|2019-12-03|https://patents.g...|https://patentima...|\n",
      "+------------------+--------------------+-------------------------------------+-----------------------------------+-------------+--------------------+----------------+----------+--------------------+--------------------+\n",
      "only showing top 200 rows\n",
      "\n"
     ]
    }
   ],
   "source": [
    "# Définir une session Spark\n",
    "spark = SparkSession.builder.appName(\"Traitement de dataset avec PySpark\").getOrCreate()\n",
    "\n",
    "# Fonction pour nettoyer les dates\n",
    "def clean_date(date):\n",
    "    if date is None:\n",
    "        return date\n",
    "    date = regexp_replace(date, '^121212', '')  # Supprimer '121212' au début de la date\n",
    "    date = regexp_replace(date, '年|月|日', '-')  # Remplacer '年', '月', et '日' par '-'\n",
    "    return date\n",
    "\n",
    "# Charger le dataset\n",
    "df = spark.read.csv(\"final_data_drone.csv\", header=True, inferSchema=True)\n",
    "\n",
    "# Appliquer la fonction de nettoyage aux colonnes concernées\n",
    "cols_to_clean = ['priority date', 'filing/creation date', 'publication date', 'grant date']\n",
    "for col_name in cols_to_clean:\n",
    "    df = df.withColumn(col_name, clean_date(col(col_name)))\n",
    "    df = df.withColumn(col_name, to_date(col(col_name)))\n",
    "    df = df.withColumn(col_name, when(col(col_name).isNull(), '1900-01-01').otherwise(col(col_name)))\n",
    "# Afficher le schéma du DataFrame\n",
    "df.printSchema()\n",
    "\n",
    "# Afficher les premières lignes pour vérification\n",
    "df.show(200)"
   ]
  },
  {
   "cell_type": "code",
   "execution_count": 3,
   "metadata": {
    "colab": {
     "base_uri": "https://localhost:8080/"
    },
    "id": "rkU9lmp9FiV2",
    "outputId": "69861df9-1a95-4683-a27f-291d12ba9f85"
   },
   "outputs": [
    {
     "name": "stdout",
     "output_type": "stream",
     "text": [
      "+----------------+--------------------+------------------------------+--------------------------------+-------------+--------------------+----------------+----------+--------------------+--------------------+\n",
      "|              id|               title|                      assignee|                         author |priority date|filing/creation date|publication date|grant date|         result_link|         figure_link|\n",
      "+----------------+--------------------+------------------------------+--------------------------------+-------------+--------------------+----------------+----------+--------------------+--------------------+\n",
      "|  US-10440323-B2|Facilitating wide...|                   Wellen Sham|                     Wellen Sham|   2015-12-31|          2018-03-20|      2019-10-08|2019-10-08|https://patents.g...|https://patentima...|\n",
      "|US-2023341849-A1|Deployment mechan...|                Skyfront Corp.|                    Troy Mestler|   2020-04-15|          2021-09-30|      2023-10-26|1900-01-01|https://patents.g...|https://patentima...|\n",
      "|US-2016286128-A1|Amphibious vtol s...|                 Dylan TX ZHOU|                   Dylan TX ZHOU|   2002-10-01|          2016-06-03|      2016-09-29|1900-01-01|https://patents.g...|https://patentima...|\n",
      "| KR-102254491-B1|Automatic fly dro...|                      (주)가시| 강우석, 정재훈, 박원규, 이수...|   2019-11-22|          2020-05-09|      2021-05-21|2021-05-21|https://patents.g...|https://patentima...|\n",
      "|WO-2020209935-A3|Software defined ...|          Northeastern Univ...|            Tommaso MELODIA, ...|   2019-04-12|          2020-02-12|      2020-11-12|1900-01-01|https://patents.g...|                NULL|\n",
      "|  US-10836508-B2|       Camera drone |          Jeffrey Paul Over...|            Jeffrey Paul Over...|   2018-02-16|          2018-02-16|      2020-11-17|2020-11-17|https://patents.g...|https://patentima...|\n",
      "|  US-11084579-B2|Convertible bipla...|          Textron Innovatio...|            Steven Ray Ivans,...|   2016-07-01|          2020-01-15|      2021-08-10|2021-08-10|https://patents.g...|https://patentima...|\n",
      "|   US-8214088-B2|Device for piloti...|                        Parrot|                 Martin Lefebure|   2008-11-27|          2009-11-19|      2012-07-03|2012-07-03|https://patents.g...|https://patentima...|\n",
      "|  CN-109074101-B|Imaging using mul...|              高通股份有限公司|    L·J·米什拉, J·G·科尔莱拖梅娜|   2016-05-02|          2017-02-17|      2022-04-26|2022-04-26|https://patents.g...|https://patentima...|\n",
      "|   JP-6822790-B2|Automatic anti-fr...|          日本ユニシス株式会社|万智子 佐保田, 万智子 佐保田,...|   2016-06-28|          2016-06-28|      2021-01-27|2021-01-27|https://patents.g...|https://patentima...|\n",
      "|   JP-5134469-B2|Drone system and ...|            三菱重工業株式会社|                         智 鈴木|   2008-08-21|          2008-08-21|      2013-01-30|2013-01-30|https://patents.g...|https://patentima...|\n",
      "| KR-102267615-B1|Mission Equipment...|            한국항공우주연구원| 박상현, 김준호, 한창환, 최선...|   2019-12-24|          2019-12-24|      2021-06-21|2021-06-21|https://patents.g...|https://patentima...|\n",
      "| KR-101941643-B1|System and method...|         동국대학교 산학협력단|          조경은, 김준오, 치옥용|   2016-10-06|          2016-10-06|      2019-01-23|2019-01-23|https://patents.g...|https://patentima...|\n",
      "|WO-2017020856-A1|Photographing dev...|普宙飞行器科技（深圳）有限公司|      黄立, 刘华斌, 王效杰, 顾兴|   2015-08-05|          2016-08-05|      2017-02-09|1900-01-01|https://patents.g...|https://patentima...|\n",
      "|WO-2019103209-A1|Ocean monitoring ...|            수상에스티주식회사|                          이성종|   2017-11-22|          2017-11-27|      2019-05-31|1900-01-01|https://patents.g...|https://patentima...|\n",
      "|US-2021132626-A1|Robot and drone g...|              Carla R. Gillett|                Carla R. Gillett|   2018-05-31|          2021-01-11|      2021-05-06|1900-01-01|https://patents.g...|https://patentima...|\n",
      "|  US-11305889-B2|System, method an...|                 Brian Janssen|                   Brian Janssen|   2017-08-03|          2020-04-27|      2022-04-19|2022-04-19|https://patents.g...|https://patentima...|\n",
      "|US-2021081553-A1|Management of dro...|            Lens Ventures, Llc|            Tara Lemmey, Stan...|   2014-02-21|          2020-11-13|      2021-03-18|1900-01-01|https://patents.g...|https://patentima...|\n",
      "|  US-11524596-B2|Monitoring system...|          Coretronic Intell...|            Hsu-Chih Cheng, Y...|   2018-07-02|          2019-05-02|      2022-12-13|2022-12-13|https://patents.g...|https://patentima...|\n",
      "|  US-11009866-B2|   Drone controller |          This Is Engineeri...|                    YooJung Hong|   2015-09-04|          2019-01-07|      2021-05-18|2021-05-18|https://patents.g...|https://patentima...|\n",
      "+----------------+--------------------+------------------------------+--------------------------------+-------------+--------------------+----------------+----------+--------------------+--------------------+\n",
      "only showing top 20 rows\n",
      "\n"
     ]
    }
   ],
   "source": [
    "from pyspark.sql.functions import regexp_replace\n",
    "\n",
    "# Supprimer '-' à la fin des valeurs\n",
    "df = df.withColumn(\"priority date\", regexp_replace(\"priority date\", \"-$\", \"\"))\n",
    "df = df.withColumn(\"filing/creation date\", regexp_replace(\"filing/creation date\", \"-$\", \"\"))\n",
    "df = df.withColumn(\"publication date\", regexp_replace(\"publication date\", \"-$\", \"\"))\n",
    "df = df.withColumn(\"grant date\", regexp_replace(\"grant date\", \"-$\", \"\"))\n",
    "\n",
    "# Afficher le DataFrame après nettoyage\n",
    "df.show()\n"
   ]
  },
  {
   "cell_type": "code",
   "execution_count": 4,
   "metadata": {
    "id": "yjhD83WIFiV4"
   },
   "outputs": [],
   "source": [
    "df = df.dropDuplicates([\"ID\"])\n"
   ]
  },
  {
   "cell_type": "code",
   "execution_count": 5,
   "metadata": {
    "colab": {
     "base_uri": "https://localhost:8080/"
    },
    "id": "Ck--an5kFiV5",
    "outputId": "8c882ff4-a2bc-4ef8-8e8a-a92cb394e26e"
   },
   "outputs": [
    {
     "name": "stdout",
     "output_type": "stream",
     "text": [
      "Nombre de lignes dans le DataFrame : 1970\n",
      "root\n",
      " |-- id: string (nullable = true)\n",
      " |-- title: string (nullable = true)\n",
      " |-- assignee: string (nullable = true)\n",
      " |-- author : string (nullable = true)\n",
      " |-- priority date: string (nullable = true)\n",
      " |-- filing/creation date: string (nullable = true)\n",
      " |-- publication date: string (nullable = true)\n",
      " |-- grant date: string (nullable = true)\n",
      " |-- result_link: string (nullable = true)\n",
      " |-- figure_link: string (nullable = true)\n",
      "\n"
     ]
    }
   ],
   "source": [
    "# Nombre de lignes dans le DataFrame\n",
    "num_rows = df.count()\n",
    "print(\"Nombre de lignes dans le DataFrame :\", num_rows)\n",
    "df.printSchema()\n"
   ]
  },
  {
   "cell_type": "markdown",
   "metadata": {
    "id": "GVUHiUUZFiV7"
   },
   "source": [
    "# **Cubes**"
   ]
  },
  {
   "cell_type": "markdown",
   "metadata": {
    "id": "eUDRyrImFiWJ"
   },
   "source": [
    "# **Cube 1D**"
   ]
  },
  {
   "cell_type": "code",
   "execution_count": 6,
   "metadata": {
    "colab": {
     "base_uri": "https://localhost:8080/"
    },
    "id": "VwBt2_hNFiWK",
    "outputId": "161740d2-d24b-4b1f-e560-f1e82367c414"
   },
   "outputs": [
    {
     "name": "stdout",
     "output_type": "stream",
     "text": [
      "Top 10 mots-clés:\n",
      "+--------------------+-----+\n",
      "|               title|count|\n",
      "+--------------------+-----+\n",
      "|              Drone |   66|\n",
      "|A kind of plant p...|    4|\n",
      "|     Drone aircraft |    3|\n",
      "|       Drone system |    3|\n",
      "|Quadcopter model ...|    3|\n",
      "|         Drone port |    3|\n",
      "|      Drone Station |    2|\n",
      "|Autonomous perfor...|    2|\n",
      "|Transformable drone |    2|\n",
      "|Methods and syste...|    2|\n",
      "+--------------------+-----+\n",
      "\n",
      "Top 20 mots-clés:\n",
      "+--------------------+-----+\n",
      "|               title|count|\n",
      "+--------------------+-----+\n",
      "|              Drone |   66|\n",
      "|A kind of plant p...|    4|\n",
      "|       Drone system |    3|\n",
      "|     Drone aircraft |    3|\n",
      "|Quadcopter model ...|    3|\n",
      "|         Drone port |    3|\n",
      "|      Drone Station |    2|\n",
      "|Motor for drone a...|    2|\n",
      "|Autonomous perfor...|    2|\n",
      "|Transformable drone |    2|\n",
      "|Methods and syste...|    2|\n",
      "|Portable folding ...|    2|\n",
      "|System for monito...|    2|\n",
      "|Drone charging st...|    2|\n",
      "|Secure recovery s...|    2|\n",
      "|Defense drone to ...|    2|\n",
      "|Systems and metho...|    2|\n",
      "|Method for contro...|    2|\n",
      "|      Drone station |    2|\n",
      "|Système de gestio...|    2|\n",
      "+--------------------+-----+\n",
      "\n",
      "Auteurs:\n",
      "+-------------------------------+-----+\n",
      "|                        author |count|\n",
      "+-------------------------------+-----+\n",
      "|                           NULL|   16|\n",
      "|                     Lee Priest|   11|\n",
      "|                        Yu Tian|    6|\n",
      "|                     Haofeng Tu|    5|\n",
      "|                     Minsoo Kim|    5|\n",
      "|                         송태훈|    4|\n",
      "|                         罗文星|    4|\n",
      "|                         오인선|    4|\n",
      "|                 Norbert Stelte|    4|\n",
      "|                         김동현|    4|\n",
      "|             千大 和氣, 洋 柳下|    4|\n",
      "|         장성기, 정미진, 이범수|    4|\n",
      "|                       Jun Zhou|    4|\n",
      "| 千大 和氣, 千大 和氣, 洋 柳...|    4|\n",
      "|                         杨毅勋|    4|\n",
      "|                    Guangjun Li|    4|\n",
      "|           Michael S. Gordon...|    4|\n",
      "|김재호, 이상신, 안일엽, 윤재...|    3|\n",
      "|           David B. Lection,...|    3|\n",
      "|                   Pierre Eline|    3|\n",
      "+-------------------------------+-----+\n",
      "only showing top 20 rows\n",
      "\n"
     ]
    }
   ],
   "source": [
    "from pyspark.sql.functions import desc\n",
    "\n",
    "# Cube pour les top 10 mots-clés\n",
    "top_10_keywords = df.groupBy(\"title\").count().orderBy(desc(\"count\")).limit(10)\n",
    "\n",
    "# Cube pour les top 20 mots-clés\n",
    "top_20_keywords = df.groupBy(\"title\").count().orderBy(desc(\"count\")).limit(20)\n",
    "\n",
    "# Cube pour les inventeurs/auteurs\n",
    "# Cube pour les inventeurs/auteurs\n",
    "inventors_authors = df.groupBy(\"author \").count().orderBy(desc(\"count\"))\n",
    "\n",
    "# Affichage des résultats\n",
    "print(\"Top 10 mots-clés:\")\n",
    "top_10_keywords.show()\n",
    "\n",
    "print(\"Top 20 mots-clés:\")\n",
    "top_20_keywords.show()\n",
    "\n",
    "print(\"Auteurs:\")\n",
    "inventors_authors.show()\n"
   ]
  },
  {
   "cell_type": "markdown",
   "metadata": {
    "id": "5x5yW62OFiWL"
   },
   "source": [
    "# **Cube 2D**"
   ]
  },
  {
   "cell_type": "code",
   "execution_count": 7,
   "metadata": {
    "colab": {
     "base_uri": "https://localhost:8080/"
    },
    "id": "YRuwxIwEFiWL",
    "outputId": "755eb3f8-95bb-4674-85f1-727b2f7936e8"
   },
   "outputs": [
    {
     "name": "stdout",
     "output_type": "stream",
     "text": [
      "Cube 2D Assignee vs. Author:\n",
      "+--------------------------+------------------------------+-----+\n",
      "|                  assignee|                       author |count|\n",
      "+--------------------------+------------------------------+-----+\n",
      "|         ETAK Systems, LLC|                    Lee Priest|    6|\n",
      "|      Samsung Electroni...|                    Minsoo Kim|    5|\n",
      "|         Metal Raptor, Llc|                    Lee Priest|    5|\n",
      "|    株式会社ナイルワークス|千大 和氣, 千大 和氣, 洋 柳...|    4|\n",
      "|      Guangdong Shiji T...|                      Jun Zhou|    4|\n",
      "|      International Bus...|          Michael S. Gordon...|    4|\n",
      "|             주식회사 숨비|                        오인선|    4|\n",
      "|    清远市巨劲科技有限公司|                        杨毅勋|    4|\n",
      "|           주식회사 휴인스|                        송태훈|    4|\n",
      "|    株式会社ナイルワークス|            千大 和氣, 洋 柳下|    4|\n",
      "|      Shanghai Autoflig...|                    Haofeng Tu|    4|\n",
      "|广东莱盛隆电子股份有限公司|                        罗文星|    4|\n",
      "|      Shenzhen Hubsan T...|                   Guangjun Li|    4|\n",
      "|     주식회사 무지개연구소|                김용덕, 류민지|    3|\n",
      "|         Alshdaifat, Wasfi|          Eida Almuhairbi, ...|    3|\n",
      "|       주식회사 엠지아이티|                        정우철|    3|\n",
      "|            (주)스마트모션|곽용인, 곽홍석, 황정선, 이은하|    3|\n",
      "|                   Yu Tian|                       Yu Tian|    3|\n",
      "|                  (주)지트|        이준섭, 조지현, 최영재|    3|\n",
      "|          Simon Siu-Chi Yu|              Simon Siu-Chi Yu|    3|\n",
      "+--------------------------+------------------------------+-----+\n",
      "only showing top 20 rows\n",
      "\n"
     ]
    }
   ],
   "source": [
    "# Cube 2D pour l'analyse des assignees et des inventeurs/auteurs\n",
    "cube_assignee_author = df.groupBy(\"assignee\", \"author \").count().orderBy(desc(\"count\"))\n",
    "\n",
    "# Cube 2D pour l'analyse des assignees et des mots-clés\n",
    "cube_assignee_title = df.groupBy(\"assignee\", \"title\").count().orderBy(desc(\"count\"))\n",
    "\n",
    "# Cube 2D pour l'analyse des assignees et des dates de priorité\n",
    "cube_assignee_priority_date = df.groupBy(\"assignee\", \"priority date\").count().orderBy(desc(\"count\"))\n",
    "\n",
    "# Affichage des résultats\n",
    "print(\"Cube 2D Assignee vs. Author:\")\n",
    "cube_assignee_author.show()\n",
    "\n"
   ]
  },
  {
   "cell_type": "code",
   "execution_count": 8,
   "metadata": {
    "colab": {
     "base_uri": "https://localhost:8080/"
    },
    "id": "oV7YYNltFiWN",
    "outputId": "c3d98765-0e0c-4582-e44b-06856130d77d"
   },
   "outputs": [
    {
     "name": "stdout",
     "output_type": "stream",
     "text": [
      "Cube 2D Assignee vs. Title:\n",
      "+-------------------------------+--------------------+-----+\n",
      "|                       assignee|               title|count|\n",
      "+-------------------------------+--------------------+-----+\n",
      "|           Samsung Electroni...|              Drone |   11|\n",
      "|           Shenzhen Hubsan T...|Quadcopter model ...|    3|\n",
      "|           Guangdong Shiji T...|              Drone |    3|\n",
      "|Ｉｈｉ運搬機械株式会社, Ihi ...|         Drone port |    2|\n",
      "|                 DuckDrone, LLC|Drone-target hunt...|    2|\n",
      "|            엘지이노텍 주식회사|Motor for drone a...|    2|\n",
      "|             Neu Robotics, Inc.|              Drone |    2|\n",
      "|            Walmart Apollo, Llc|Systems and metho...|    2|\n",
      "|         上海拓攻机器人有限公司|Plant protection ...|    2|\n",
      "|               Michael Gavrilov|Drone systems for...|    2|\n",
      "|株式会社ナイルワークス, Nile...|       Drone system |    2|\n",
      "|           ZEROTECH (Shenzhe...|              Drone |    2|\n",
      "|       寧波派麗肯無人機有限公司|              Drone |    2|\n",
      "|           Guangdong Attop T...|              Drone |    2|\n",
      "|               Spin Master Ltd.|              Drone |    2|\n",
      "|            Lg Electronics Inc.|              Drone |    2|\n",
      "|                   Junxian Chen|              Drone |    2|\n",
      "|           Michael Steward E...|Drone charging st...|    2|\n",
      "|           International Bus...|Methods and syste...|    2|\n",
      "|           Sagem Defense Sec...|METHOD AND SYSTEM...|    1|\n",
      "+-------------------------------+--------------------+-----+\n",
      "only showing top 20 rows\n",
      "\n"
     ]
    }
   ],
   "source": [
    "print(\"Cube 2D Assignee vs. Title:\")\n",
    "cube_assignee_title.show()"
   ]
  },
  {
   "cell_type": "code",
   "execution_count": 9,
   "metadata": {
    "colab": {
     "base_uri": "https://localhost:8080/"
    },
    "id": "_i43rL88FiWN",
    "outputId": "12f6a48d-286f-4ff0-a385-73af79fa88a8"
   },
   "outputs": [
    {
     "name": "stdout",
     "output_type": "stream",
     "text": [
      "Cube 2D Assignee vs. Priority Date:\n",
      "+-------------------------------------+-------------+-----+\n",
      "|                             assignee|priority date|count|\n",
      "+-------------------------------------+-------------+-----+\n",
      "|                    ETAK Systems, LLC|   2016-06-10|    7|\n",
      "|                 Samsung Electroni...|   2016-10-18|    6|\n",
      "|               清远市巨劲科技有限公司|   2018-03-15|    5|\n",
      "|                    Metal Raptor, Llc|   2016-06-10|    5|\n",
      "|               株式会社ナイルワークス|   2018-02-28|    4|\n",
      "|                 DynaEnergetics Eu...|   2018-05-31|    4|\n",
      "|                 International Bus...|   2016-03-08|    4|\n",
      "|                 Shanghai Autoflig...|   2017-05-05|    4|\n",
      "|                 Guangdong Shiji T...|   2018-08-10|    3|\n",
      "|                 Samsung Electroni...|   2016-04-19|    3|\n",
      "|                    Alshdaifat, Wasfi|   2014-03-25|    3|\n",
      "|                공간정보기술 주식회사|   2017-11-07|    3|\n",
      "|                             (주)지트|   2017-05-31|    3|\n",
      "|             寧波派麗肯無人機有限公司|   2017-06-21|    3|\n",
      "|インダストリーネットワーク株式会社...|   2016-04-19|    2|\n",
      "|           广东莱盛隆电子股份有限公司|   2018-02-09|    2|\n",
      "|                   Airbus Helicopters|   2017-10-25|    2|\n",
      "|                 Xidrone Systems, ...|   2014-12-19|    2|\n",
      "|                 Amazon Technologi...|   2016-09-08|    2|\n",
      "|                동국대학교 산학협력단|   2016-11-14|    2|\n",
      "+-------------------------------------+-------------+-----+\n",
      "only showing top 20 rows\n",
      "\n"
     ]
    }
   ],
   "source": [
    "\n",
    "print(\"Cube 2D Assignee vs. Priority Date:\")\n",
    "cube_assignee_priority_date.show()"
   ]
  },
  {
   "cell_type": "markdown",
   "metadata": {
    "id": "YVGYNr0BFiWO"
   },
   "source": [
    "# **Cube 3D**"
   ]
  },
  {
   "cell_type": "code",
   "execution_count": null,
   "metadata": {
    "colab": {
     "base_uri": "https://localhost:8080/"
    },
    "id": "PrEUg3AQFiWT",
    "outputId": "cc373abd-4e2a-4d44-8e94-27239d88607e"
   },
   "outputs": [
    {
     "name": "stdout",
     "output_type": "stream",
     "text": [
      "Cube 3D Assignee vs. Author vs. Title:\n",
      "+------------------------+--------------------------------+--------------------+-----+\n",
      "|                assignee|                inventor/author |               title|count|\n",
      "+------------------------+--------------------------------+--------------------+-----+\n",
      "|    Samsung Electroni...|                      Minsoo Kim|              Drone |    5|\n",
      "|    Guangdong Shiji T...|                        Jun Zhou|              Drone |    3|\n",
      "|    Michael Steward E...|            Michael Steward E...|Drone charging st...|    2|\n",
      "|    Samsung Electroni...|            Eunyoung Kim, Hay...|              Drone |    2|\n",
      "|    ZEROTECH (Shenzhe...|                      Wenfeng Li|              Drone |    2|\n",
      "|        Michael Gavrilov|                Michael Gavrilov|Drone systems for...|    2|\n",
      "|     엘지이노텍 주식회사|                          박영대|Motor for drone a...|    2|\n",
      "|      Neu Robotics, Inc.|            Cyril Lutterodt, ...|              Drone |    2|\n",
      "|    Samsung Electroni...|            Daekyung Ahn, Yon...|              Drone |    2|\n",
      "|寧波派麗肯無人機有限公司|                    滔 干, 滔 干|              Drone |    2|\n",
      "|        Spin Master Ltd.|            Robert M. O'Brien...|              Drone |    2|\n",
      "|    Guangdong Attop T...|                        Sijin Li|              Drone |    2|\n",
      "|          DuckDrone, LLC|            Grady Means, Thor...|Drone-target hunt...|    2|\n",
      "|    International Bus...|            David B. Lection,...|Methods and syste...|    2|\n",
      "|    Shenzhen Hubsan T...|                     Guangjun Li|Quadcopter model ...|    2|\n",
      "|  上海拓攻机器人有限公司|尹亮亮, 吕萌, 赵佳, 李少斌, 张羽|Plant protection ...|    2|\n",
      "|            Junxian Chen|                    Junxian Chen|              Drone |    2|\n",
      "|    江苏恒创软件有限公司|        李亮, 吴梦, 沙敏, 赵雪凤|Method for monito...|    1|\n",
      "|武汉九斗智能科技有限公司|                          冯思淇|Drone powder spra...|    1|\n",
      "|    Telejet Kommunika...|            Max Schulze, Dr. ...|Entrepôt avec dro...|    1|\n",
      "+------------------------+--------------------------------+--------------------+-----+\n",
      "only showing top 20 rows\n",
      "\n"
     ]
    }
   ],
   "source": [
    "# Cube 3D pour l'analyse des assignees, des inventeurs/auteurs et des titres\n",
    "cube_assignee_author_title = df.groupBy(\"assignee\", \"inventor/author \", \"title\").count().orderBy(desc(\"count\"))\n",
    "# Affichage des résultats\n",
    "print(\"Cube 3D Assignee vs. Author vs. Title:\")\n",
    "cube_assignee_author_title.show()"
   ]
  },
  {
   "cell_type": "code",
   "execution_count": null,
   "metadata": {
    "colab": {
     "base_uri": "https://localhost:8080/"
    },
    "id": "hn59O1HnFiWX",
    "outputId": "f7a3835b-7402-49ae-eabf-663fb961ae48"
   },
   "outputs": [
    {
     "name": "stdout",
     "output_type": "stream",
     "text": [
      "Cube 3D Assignee vs. Priority Date vs. Title:\n",
      "+-----------------------------------+-------------+--------------------+-----+\n",
      "|                           assignee|priority date|               title|count|\n",
      "+-----------------------------------+-------------+--------------------+-----+\n",
      "|               Samsung Electroni...|   2016-10-18|              Drone |    6|\n",
      "|               Samsung Electroni...|   2016-04-19|              Drone |    3|\n",
      "|                   Michael Gavrilov|   2019-06-29|Drone systems for...|    2|\n",
      "|                 Neu Robotics, Inc.|   2017-08-14|              Drone |    2|\n",
      "|           寧波派麗肯無人機有限公司|   2017-06-21|              Drone |    2|\n",
      "|               Samsung Electroni...|   2016-08-05|              Drone |    2|\n",
      "|                     DuckDrone, LLC|   2016-01-07|Drone-target hunt...|    2|\n",
      "|               Guangdong Shiji T...|   2018-08-10|              Drone |    2|\n",
      "|                   Spin Master Ltd.|   2018-02-16|              Drone |    2|\n",
      "|               Shenzhen Hubsan T...|   2016-09-20|Quadcopter model ...|    2|\n",
      "|    Ｉｈｉ運搬機械株式会社, Ihi ...|   2019-09-19|         Drone port |    2|\n",
      "|               Michael Steward E...|   2016-09-09|Drone charging st...|    2|\n",
      "|                 The Boeing Company|   2015-01-21|Method and system...|    1|\n",
      "|               The Procter & Gam...|   2016-01-11|Aerial drone clea...|    1|\n",
      "|ペイレンジ インコーポレイテッド,...|   2016-02-17|Systems and metho...|    1|\n",
      "|                     (주)원지리정보|   2016-05-12|3D space informat...|    1|\n",
      "|                주식회사 엠지아이티|   2016-06-20|Gimbal assembly f...|    1|\n",
      "|                    주식회사 이노드|   2020-07-09|Low altitude dron...|    1|\n",
      "|강원대학교산학협력단, 연세대학교...|   2019-11-04|Structure defect ...|    1|\n",
      "|               Hyundai Motor Com...|   2017-02-24|Navigation system...|    1|\n",
      "+-----------------------------------+-------------+--------------------+-----+\n",
      "only showing top 20 rows\n",
      "\n"
     ]
    }
   ],
   "source": [
    "# Cube 3D pour l'analyse des assignees, des dates de priorité et des titres\n",
    "cube_assignee_priority_title = df.groupBy(\"assignee\", \"priority date\", \"title\").count().orderBy(desc(\"count\"))\n",
    "print(\"Cube 3D Assignee vs. Priority Date vs. Title:\")\n",
    "cube_assignee_priority_title.show()"
   ]
  },
  {
   "cell_type": "code",
   "execution_count": null,
   "metadata": {
    "colab": {
     "base_uri": "https://localhost:8080/"
    },
    "id": "mqhvY79fFiWY",
    "outputId": "98ca9a14-7ed3-4110-c741-47763d1db86d"
   },
   "outputs": [
    {
     "name": "stdout",
     "output_type": "stream",
     "text": [
      "Cube 3D Assignee vs. Author vs. Priority Date:\n",
      "+------------------------+-------------------------------+-------------+-----+\n",
      "|                assignee|               inventor/author |priority date|count|\n",
      "+------------------------+-------------------------------+-------------+-----+\n",
      "|       ETAK Systems, LLC|                     Lee Priest|   2016-06-10|    5|\n",
      "|       Metal Raptor, Llc|                     Lee Priest|   2016-06-10|    5|\n",
      "|    Samsung Electroni...|                     Minsoo Kim|   2016-10-18|    5|\n",
      "|    Shanghai Autoflig...|                     Haofeng Tu|   2017-05-05|    4|\n",
      "|  清远市巨劲科技有限公司|                         杨毅勋|   2018-03-15|    4|\n",
      "|       Alshdaifat, Wasfi|           Eida Almuhairbi, ...|   2014-03-25|    3|\n",
      "|寧波派麗肯無人機有限公司|                   滔 干, 滔 干|   2017-06-21|    3|\n",
      "|                (주)지트|         이준섭, 조지현, 최영재|   2017-05-31|    3|\n",
      "|    Guangdong Shiji T...|                       Jun Zhou|   2018-08-10|    3|\n",
      "|          다인시스템(주)|         안승열, 황선우, 강순도|   2019-05-10|    2|\n",
      "|    Shenzhen Hubsan T...|                    Guangjun Li|   2016-09-20|    2|\n",
      "|       주식회사 에어퓨쳐|                         유윤종|   2021-03-15|    2|\n",
      "|    Sony Group Corpor...|                   Cheng-Yi Liu|   2021-06-10|    2|\n",
      "|        Here Global B.V.|                 Ivo KUZMANOVIC|   2018-08-30|    2|\n",
      "|      한국전자기술연구원|김재호, 이상신, 안일엽, 윤재...|   2014-12-19|    2|\n",
      "|      株式会社オプティム|           俊二 菅谷, 俊二 菅谷|   2016-05-31|    2|\n",
      "|            华南农业大学|文晟, 张泉勇, 兰玉彬, 卢玉华...|   2018-06-25|    2|\n",
      "|     Walmart Apollo, Llc|           John Jeremiah O'B...|   2016-10-04|    2|\n",
      "|        Michael Gavrilov|               Michael Gavrilov|   2019-06-29|    2|\n",
      "|      Neu Robotics, Inc.|           Cyril Lutterodt, ...|   2017-08-14|    2|\n",
      "+------------------------+-------------------------------+-------------+-----+\n",
      "only showing top 20 rows\n",
      "\n"
     ]
    }
   ],
   "source": [
    "# Cube 3D pour l'analyse des assignees, des inventeurs/auteurs et des dates de priorité\n",
    "cube_assignee_author_priority = df.groupBy(\"assignee\", \"inventor/author \", \"priority date\").count().orderBy(desc(\"count\"))\n",
    "print(\"Cube 3D Assignee vs. Author vs. Priority Date:\")\n",
    "cube_assignee_author_priority.show()"
   ]
  },
  {
   "cell_type": "code",
   "execution_count": null,
   "metadata": {
    "colab": {
     "base_uri": "https://localhost:8080/"
    },
    "id": "WKLUpOcmFiWZ",
    "outputId": "4fbfabe3-cdd6-4588-ce18-fbcfcdc0eb85"
   },
   "outputs": [
    {
     "name": "stdout",
     "output_type": "stream",
     "text": [
      "Cube 3D Assignee vs. Author vs. Creation Date:\n",
      "+------------------------+-------------------------------+--------------------+-----+\n",
      "|                assignee|               inventor/author |filing/creation date|count|\n",
      "+------------------------+-------------------------------+--------------------+-----+\n",
      "|    Samsung Electroni...|                     Minsoo Kim|          2017-04-17|    5|\n",
      "|  清远市巨劲科技有限公司|                         杨毅勋|          2018-03-15|    4|\n",
      "|    Shanghai Autoflig...|                     Haofeng Tu|          2018-05-04|    4|\n",
      "|       Alshdaifat, Wasfi|           Eida Almuhairbi, ...|          2014-03-25|    3|\n",
      "|                (주)지트|         이준섭, 조지현, 최영재|          2017-05-31|    3|\n",
      "|寧波派麗肯無人機有限公司|                   滔 干, 滔 干|          2017-07-14|    3|\n",
      "|    Guangdong Shiji T...|                       Jun Zhou|          2018-08-10|    3|\n",
      "|       주식회사 에어퓨쳐|                         유윤종|          2021-03-15|    2|\n",
      "|       Metal Raptor, Llc|                     Lee Priest|          2018-08-10|    2|\n",
      "|                    Dcns|           Julien Pierre Gui...|          2009-10-13|    2|\n",
      "|    Shenzhen Hubsan T...|                    Guangjun Li|          2016-09-20|    2|\n",
      "|        Here Global B.V.|                 Ivo KUZMANOVIC|          2018-08-30|    2|\n",
      "|      한국전자기술연구원|김재호, 이상신, 안일엽, 윤재...|          2014-12-19|    2|\n",
      "|      株式会社オプティム|           俊二 菅谷, 俊二 菅谷|          2016-05-31|    2|\n",
      "|            华南农业大学|文晟, 张泉勇, 兰玉彬, 卢玉华...|          2018-06-25|    2|\n",
      "|    Samsung Electroni...|           Daekyung Ahn, Yon...|          2017-01-23|    2|\n",
      "|    Samsung Electroni...|           Eunyoung Kim, Hay...|          2016-10-18|    2|\n",
      "|       Mesa Digital, Llc|           Luis M. Ortiz, Ke...|          2018-03-08|    2|\n",
      "|      Neu Robotics, Inc.|           Cyril Lutterodt, ...|          2017-08-14|    2|\n",
      "|    Diehl Defence Gmb...|                 Norbert Stelte|          2015-06-26|    2|\n",
      "+------------------------+-------------------------------+--------------------+-----+\n",
      "only showing top 20 rows\n",
      "\n"
     ]
    }
   ],
   "source": [
    "# Cube 3D pour l'analyse des assignees, des inventeurs/auteurs et des dates de création\n",
    "cube_assignee_author_creation = df.groupBy(\"assignee\", \"inventor/author \", \"filing/creation date\").count().orderBy(desc(\"count\"))\n",
    "print(\"Cube 3D Assignee vs. Author vs. Creation Date:\")\n",
    "cube_assignee_author_creation.show()"
   ]
  },
  {
   "cell_type": "code",
   "execution_count": null,
   "metadata": {
    "colab": {
     "base_uri": "https://localhost:8080/"
    },
    "id": "95xcrE12FiWb",
    "outputId": "1891b36e-ba01-42e7-dfd2-674881551c87"
   },
   "outputs": [
    {
     "name": "stdout",
     "output_type": "stream",
     "text": [
      "Cube 3D Assignee vs. Priority Date vs. Creation Date:\n",
      "+-------------------------------------+-------------+--------------------+-----+\n",
      "|                             assignee|priority date|filing/creation date|count|\n",
      "+-------------------------------------+-------------+--------------------+-----+\n",
      "|                 Samsung Electroni...|   2016-10-18|          2017-04-17|    6|\n",
      "|               清远市巨劲科技有限公司|   2018-03-15|          2018-03-15|    5|\n",
      "|                 Shanghai Autoflig...|   2017-05-05|          2018-05-04|    4|\n",
      "|             寧波派麗肯無人機有限公司|   2017-06-21|          2017-07-14|    3|\n",
      "|               株式会社ナイルワークス|   2018-02-28|          2019-02-27|    3|\n",
      "|                    Alshdaifat, Wasfi|   2014-03-25|          2014-03-25|    3|\n",
      "|                 Guangdong Shiji T...|   2018-08-10|          2018-08-10|    3|\n",
      "|                 Samsung Electroni...|   2016-04-19|          2016-10-18|    3|\n",
      "|                공간정보기술 주식회사|   2017-11-07|          2017-11-07|    3|\n",
      "|                             (주)지트|   2017-05-31|          2017-05-31|    3|\n",
      "|                 국민대학교산학협력단|   2016-02-29|          2016-02-29|    2|\n",
      "|           深圳市大疆创新科技有限公司|   2017-12-18|          2017-12-18|    2|\n",
      "|            한국해양대학교 산학협력단|   2020-12-30|          2020-12-30|    2|\n",
      "|                    주식회사 에어퓨쳐|   2021-03-15|          2021-03-15|    2|\n",
      "|                 Shenzhen Hubsan T...|   2016-09-20|          2016-09-20|    2|\n",
      "|                 Samsung Electroni...|   2016-08-05|          2017-01-23|    2|\n",
      "|インダストリーネットワーク株式会社...|   2016-04-19|          2017-04-18|    2|\n",
      "|                 아주대학교산학협력단|   2017-04-20|          2017-04-20|    2|\n",
      "|                        Parrot Drones|   2015-09-10|          2016-09-09|    2|\n",
      "|           安徽天德无人机科技有限公司|   2019-07-16|          2019-07-16|    2|\n",
      "+-------------------------------------+-------------+--------------------+-----+\n",
      "only showing top 20 rows\n",
      "\n"
     ]
    }
   ],
   "source": [
    "# Cube 3D pour l'analyse des assignees, des dates de priorité et des dates de création\n",
    "cube_assignee_priority_creation = df.groupBy(\"assignee\", \"priority date\", \"filing/creation date\").count().orderBy(desc(\"count\"))\n",
    "print(\"Cube 3D Assignee vs. Priority Date vs. Creation Date:\")\n",
    "cube_assignee_priority_creation.show()"
   ]
  },
  {
   "cell_type": "code",
   "execution_count": null,
   "metadata": {
    "colab": {
     "base_uri": "https://localhost:8080/"
    },
    "id": "yfQw1vFbFiWc",
    "outputId": "55a8c011-07b6-4560-bce9-c09e4214842a"
   },
   "outputs": [
    {
     "name": "stdout",
     "output_type": "stream",
     "text": [
      "Cube 3D Assignee vs. Author vs. Publication Date:\n",
      "+--------------------------------------+-------------------------------+----------------+-----+\n",
      "|                              assignee|               inventor/author |publication date|count|\n",
      "+--------------------------------------+-------------------------------+----------------+-----+\n",
      "|                  Samsung Electroni...|                     Minsoo Kim|      2019-04-23|    5|\n",
      "|                清远市巨劲科技有限公司|                         杨毅勋|      2018-10-19|    4|\n",
      "|                     Alshdaifat, Wasfi|           Eida Almuhairbi, ...|      2014-05-30|    3|\n",
      "|                              (주)지트|         이준섭, 조지현, 최영재|      2017-09-26|    2|\n",
      "|                       주식회사 휴인스|                         송태훈|      2018-12-28|    2|\n",
      "|                      MerchSource, LLC|               Crispian Tompkin|      2018-08-14|    2|\n",
      "|         전주대학교 산학협력단, 김동현|                         김동현|      2020-06-18|    2|\n",
      "|     株式会社ゼンリンデータコム, Ze...|       辰彦 清水, Tatsuhiko ...|      2018-10-25|    2|\n",
      "|                  Guangdong Shiji T...|                       Jun Zhou|      2020-02-11|    2|\n",
      "|                        다인시스템(주)|         안승열, 황선우, 강순도|      2020-11-18|    2|\n",
      "|                     Mesa Digital, Llc|           Luis M. Ortiz, Ke...|      2018-12-13|    2|\n",
      "|                     주식회사 에어퓨쳐|                         유윤종|      2022-12-26|    2|\n",
      "|                株式会社ナイルワークス|             千大 和氣, 洋 柳下|      2019-09-06|    2|\n",
      "|中国航空工业集团公司西安飞机设计研究所|           李军府, 张健, 张德虎|      2015-09-09|    1|\n",
      "|                        Alcatel Lucent|           Osman Aydin, Ilar...|      2017-12-27|    1|\n",
      "|                                Thales|                   Michel Roger|      2021-05-14|    1|\n",
      "|                 한양대학교 산학협력단|노승환, 송성종, 김준, 한가람...|      2017-03-03|    1|\n",
      "|                     주식회사 에이디이|         석문칠, 김진규, 최철웅|      2018-05-15|    1|\n",
      "|                                이미경|                         이미경|      2018-12-21|    1|\n",
      "|                  International Bus...|           James E. Bostick,...|      2020-06-30|    1|\n",
      "+--------------------------------------+-------------------------------+----------------+-----+\n",
      "only showing top 20 rows\n",
      "\n"
     ]
    }
   ],
   "source": [
    "# Cube 3D pour l'analyse des assignees, des inventeurs/auteurs et des dates de publication\n",
    "cube_assignee_author_publication = df.groupBy(\"assignee\", \"inventor/author \", \"publication date\").count().orderBy(desc(\"count\"))\n",
    "print(\"Cube 3D Assignee vs. Author vs. Publication Date:\")\n",
    "cube_assignee_author_publication.show()"
   ]
  },
  {
   "cell_type": "code",
   "execution_count": null,
   "metadata": {
    "id": "h1o8syXSFiW5"
   },
   "outputs": [],
   "source": [
    "# Exporter le DataFrame traité vers un fichier CSV\n",
    "df.write.csv(\"DATA_for_viz.csv\", header=True, mode=\"overwrite\")"
   ]
  },
  {
   "cell_type": "code",
   "execution_count": null,
   "metadata": {
    "colab": {
     "base_uri": "https://localhost:8080/"
    },
    "id": "tU8ySHTtFiW6",
    "outputId": "fd820f1a-078f-4a91-dd44-47f02afe9276"
   },
   "outputs": [
    {
     "name": "stdout",
     "output_type": "stream",
     "text": [
      "Requirement already satisfied: xlsxwriter in /usr/local/lib/python3.10/dist-packages (3.2.0)\n"
     ]
    }
   ],
   "source": [
    "# prompt: comment exporter tous les cubes vers execel chacun dans une feuille\n",
    "import pandas as pd\n",
    "!pip install xlsxwriter\n",
    "# Create a Pandas DataFrame for each cube\n",
    "cube_assignee_author_pd = cube_assignee_author.toPandas()\n",
    "cube_assignee_title_pd = cube_assignee_title.toPandas()\n",
    "cube_assignee_priority_date_pd = cube_assignee_priority_date.toPandas()\n",
    "cube_assignee_author_title_pd = cube_assignee_author_title.toPandas()\n",
    "cube_assignee_priority_title_pd = cube_assignee_priority_title.toPandas()\n",
    "cube_assignee_author_priority_pd = cube_assignee_author_priority.toPandas()\n",
    "cube_assignee_author_creation_pd = cube_assignee_author_creation.toPandas()\n",
    "cube_assignee_priority_creation_pd = cube_assignee_priority_creation.toPandas()\n",
    "cube_assignee_author_publication_pd = cube_assignee_author_publication.toPandas()\n",
    "\n",
    "# Create a Pandas Excel writer using XlsxWriter as the engine.\n",
    "writer = pd.ExcelWriter('cubes.xlsx', engine='xlsxwriter')\n",
    "\n",
    "# Change the sheet names to be within the 31 character limit\n",
    "cube_assignee_author_pd.to_excel(writer, sheet_name='Cube Assignee_Inventor')\n",
    "cube_assignee_title_pd.to_excel(writer, sheet_name='Cube Assignee_Title')\n",
    "cube_assignee_priority_date_pd.to_excel(writer, sheet_name='Cube Assignee_PriorityDate')\n",
    "cube_assignee_author_title_pd.to_excel(writer, sheet_name='Cube Assignee_Author_Title')\n",
    "cube_assignee_priority_title_pd.to_excel(writer, sheet_name='Cube Assignee_Priority_Title')\n",
    "cube_assignee_author_priority_pd.to_excel(writer, sheet_name='Cube Assignee_Author_Priority')\n",
    "cube_assignee_author_creation_pd.to_excel(writer, sheet_name='Cube Assignee_Author_Creation')\n",
    "cube_assignee_priority_creation_pd.to_excel(writer, sheet_name='Cube Assignee_Priority_Creation')\n",
    "cube_assignee_author_publication_pd.to_excel(writer, sheet_name='Cube Assignee_Author_Public')\n",
    "\n",
    "writer.close()\n",
    "\n"
   ]
  },
  {
   "cell_type": "code",
   "execution_count": null,
   "metadata": {
    "id": "kR9P_QRLXIbM"
   },
   "outputs": [],
   "source": []
  }
 ],
 "metadata": {
  "colab": {
   "provenance": []
  },
  "kernelspec": {
   "display_name": "Python 3 (ipykernel)",
   "language": "python",
   "name": "python3"
  },
  "language_info": {
   "codemirror_mode": {
    "name": "ipython",
    "version": 3
   },
   "file_extension": ".py",
   "mimetype": "text/x-python",
   "name": "python",
   "nbconvert_exporter": "python",
   "pygments_lexer": "ipython3",
   "version": "3.11.3"
  }
 },
 "nbformat": 4,
 "nbformat_minor": 4
}
